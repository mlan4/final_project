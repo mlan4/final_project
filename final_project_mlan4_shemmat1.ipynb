{
  "nbformat": 4,
  "nbformat_minor": 0,
  "metadata": {
    "colab": {
      "name": "final-project-mlan4-shemmat1.ipynb",
      "provenance": [],
      "collapsed_sections": [],
      "include_colab_link": true
    },
    "kernelspec": {
      "name": "python3",
      "display_name": "Python 3"
    }
  },
  "cells": [
    {
      "cell_type": "markdown",
      "metadata": {
        "id": "view-in-github",
        "colab_type": "text"
      },
      "source": [
        "<a href=\"https://colab.research.google.com/github/mlan4/final_project/blob/master/final_project_mlan4_shemmat1.ipynb\" target=\"_parent\"><img src=\"https://colab.research.google.com/assets/colab-badge.svg\" alt=\"Open In Colab\"/></a>"
      ]
    },
    {
      "cell_type": "code",
      "metadata": {
        "id": "uaab_ShE1a4W",
        "colab_type": "code",
        "outputId": "2a610f18-68f3-449b-9b69-73cbcc19b97a",
        "colab": {
          "base_uri": "https://localhost:8080/",
          "height": 71
        }
      },
      "source": [
        "import numpy as np\n",
        "import pandas as pd\n",
        "import seaborn as sns\n",
        "import matplotlib.pyplot as plt\n",
        "import sklearn.linear_model as lm\n",
        "import sklearn as skl\n",
        "import statsmodels.formula.api as smf\n",
        "import statsmodels as sm\n",
        "import sklearn.model_selection as ms\n",
        "from datetime import datetime as dt\n",
        "\n",
        "\n",
        "\n",
        "# Sets the random seed\n",
        "np.random.seed(0)\n",
        "\n",
        "# # Imports the file if it is not already imported\n",
        "# ! if [ ! -e glm.training.data.csv ]; \\\n",
        "# then wget https://raw.githubusercontent.com/mlan4/final_project/master/glm.training.data.csv; \\\n",
        "# fi;\n",
        "  \n",
        "# # Imports the file if it is not already imported\n",
        "# ! if [ ! -e glm.test.data.csv ]; \\\n",
        "# then wget https://raw.githubusercontent.com/mlan4/final_project/master/glm.test.data.csv; \\\n",
        "# fi;\n",
        "\n",
        "# # Read the data into pandas dataframe  \n",
        "# trainingdf = pd.read_csv(\"glm.training.data.csv\")\n",
        "\n",
        "# testdf = pd.read_csv(\"glm.test.data.csv\")\n",
        "\n",
        "testdf = pd.read_csv(\"https://www.dropbox.com/s/bwwoj1cdkqnoi87/glm.test.data.csv?dl=1\", index_col = 0)\n",
        "trainingdf = pd.read_csv(\"https://www.dropbox.com/s/h4ap7nyc7snf5ix/glm.training.data.csv?dl=1\", index_col = 0)\n",
        "\n",
        "# trainingdf.head(1)\n",
        "\n"
      ],
      "execution_count": 1,
      "outputs": [
        {
          "output_type": "stream",
          "text": [
            "/usr/local/lib/python3.6/dist-packages/numpy/lib/arraysetops.py:569: FutureWarning: elementwise comparison failed; returning scalar instead, but in the future will perform elementwise comparison\n",
            "  mask |= (ar1 == a)\n"
          ],
          "name": "stderr"
        }
      ]
    },
    {
      "cell_type": "code",
      "metadata": {
        "id": "HSUI7-XgsEch",
        "colab_type": "code",
        "colab": {}
      },
      "source": [
        ""
      ],
      "execution_count": 0,
      "outputs": []
    },
    {
      "cell_type": "code",
      "metadata": {
        "id": "4Mx2T6lEGtcg",
        "colab_type": "code",
        "colab": {}
      },
      "source": [
        "\n",
        "normalized_dftr = (trainingdf - trainingdf.mean()) / trainingdf.std()\n",
        "normalized_dftr = normalized_dftr.drop(['y'], axis = 1)\n",
        "normalized_dftr = pd.concat([normalized_dftr, trainingdf[['y']]], axis = 1)\n",
        "# print(normalized_dftr)\n",
        "# print(np.max(trainingdf[['x.coag.sofa']]))\n",
        "# print(np.mean(trainingdf[['x.coag.sofa']]))\n",
        "# print(np.std(trainingdf[['x.coag.sofa']]))\n",
        "# print((trainingdf[['x.coag.sofa']] - np.mean(trainingdf[['x.coag.sofa']])) / np.std(trainingdf[['x.coag.sofa']]))"
      ],
      "execution_count": 0,
      "outputs": []
    },
    {
      "cell_type": "code",
      "metadata": {
        "id": "n0_d-9T_c_Bs",
        "colab_type": "code",
        "colab": {}
      },
      "source": [
        "alphas = np.linspace(0.0001, 0.001, num = 10)\n",
        "trainingdfy1 = normalized_dftr.loc[(normalized_dftr.y == 1)]\n",
        "trainingdfy0 = normalized_dftr.loc[(normalized_dftr.y == 0)]\n",
        "# folds = ms.KFold(n_splits = 10)\n",
        "# splitx = folds.split(trainingdfx)\n",
        "# splity = folds.split(trainingdfy)\n",
        "\n",
        "\n",
        "\n"
      ],
      "execution_count": 0,
      "outputs": []
    },
    {
      "cell_type": "code",
      "metadata": {
        "id": "LRhSDdOQ-Vq4",
        "colab_type": "code",
        "colab": {}
      },
      "source": [
        "# # training_stoch = np.empty(np.amax(trainingdf[['patient']].values))\n",
        "# # for stochind in range(0, np.amax(trainingdf[['patient']].values)):\n",
        "# #   training_stoch = np.append(training_stoch, trainingdf.loc[(trainingdf.patient == stochind)])\n",
        "\n",
        "xtr = normalized_dftr.drop(['y'], axis = 1)\n",
        "ytr = normalized_dftr[['y']]\n",
        "\n",
        "# xtr.shape[0]\n",
        "\n",
        "\n",
        "# splitlist = np.intp(np.linspace(0, xtr.shape[0], num = 15763))\n",
        "# counter = 1\n",
        "\n",
        "# # print(splitlist)\n",
        "\n",
        "# # print(splitlist)\n",
        "\n",
        "# # glm = lm.LogisticRegressionCV(cv = 10, penalty = 'l1', solver = 'liblinear')\n",
        "# # # glm.fit(xtr, np.ravel(ytr.values))\n",
        "# # glm.fit(xtr.iloc[1315600:1315800], np.ravel(ytr.iloc[1315600:1315800]))\n",
        "\n",
        "# # glm.fit(xtr.iloc[splitlist[83]:splitlist[84]], np.ravel(ytr.iloc[splitlist[83]:splitlist[84]]))\n",
        "\n",
        "# # for splindex in splitlist:\n",
        "# #   if counter == 15763:\n",
        "# #     break\n",
        "# #   if splitlist[counter] == 1315700 or splitlist[counter] == 1315800:\n",
        "# #     print('hi')\n",
        "# #   else:\n",
        "# #     glm = lm.LogisticRegressionCV(cv = 10, penalty = 'l1', solver = 'liblinear', class_weight = glm.coef_)\n",
        "# #     glm.fit(xtr.iloc[splindex:splitlist[counter]], ytr.iloc[splindex:splitlist[counter]])\n",
        "# #   counter += 1\n",
        "  "
      ],
      "execution_count": 0,
      "outputs": []
    },
    {
      "cell_type": "code",
      "metadata": {
        "id": "0ymCHzpz0ff4",
        "colab_type": "code",
        "colab": {}
      },
      "source": [
        "dfsplits = np.linspace(0, 1, num = 11)\n",
        "count = 0\n",
        "dfy1 = []\n",
        "dfy0 = []\n",
        "leny0 = len(trainingdfy0.index)\n",
        "leny1 = len(trainingdfy1.index)\n",
        "for splindex in dfsplits:\n",
        "  if count == 10:\n",
        "    break\n",
        "  dfy1.append(trainingdfy1[np.int(np.floor(splindex * leny1)):np.int(np.floor(dfsplits[count + 1] * leny1))])\n",
        "  dfy0.append(trainingdfy0[np.int(np.floor(splindex * leny0)):np.int(np.floor(dfsplits[count + 1] * leny0))])\n",
        "  count += 1"
      ],
      "execution_count": 0,
      "outputs": []
    },
    {
      "cell_type": "code",
      "metadata": {
        "id": "6VnKCVoPpqzC",
        "colab_type": "code",
        "colab": {}
      },
      "source": [
        "# print(len(dfy1[9]))\n",
        "# print(len(dfy0[1]))\n"
      ],
      "execution_count": 0,
      "outputs": []
    },
    {
      "cell_type": "code",
      "metadata": {
        "id": "jP1yjgVy3Zl-",
        "colab_type": "code",
        "colab": {}
      },
      "source": [
        "\n",
        "# len(dfy1)\n",
        "dfytot = []\n",
        "# dfytemp = []\n",
        "for appindex in range(0, 10):\n",
        "  dfytot.append(pd.concat((dfy0[appindex], dfy1[appindex]), axis = 0))\n",
        "#   dfytemp.append(pd.concat([dfy0[appindex], dfy1[appindex]], axis = 0))"
      ],
      "execution_count": 0,
      "outputs": []
    },
    {
      "cell_type": "code",
      "metadata": {
        "id": "3DKABm7Op9cn",
        "colab_type": "code",
        "colab": {}
      },
      "source": [
        "#print(dfytot[0])"
      ],
      "execution_count": 0,
      "outputs": []
    },
    {
      "cell_type": "code",
      "metadata": {
        "id": "61-AEEZmKW9q",
        "colab_type": "code",
        "colab": {
          "base_uri": "https://localhost:8080/",
          "height": 1887
        },
        "outputId": "89c94698-bd96-4c28-c525-c0305b26b2fe"
      },
      "source": [
        "fites = []\n",
        "for kindex in range(0, 10):\n",
        "  dfytemp = []\n",
        "  print('current k-fold is %f' %kindex)\n",
        "  for appindex2 in range(0, 10):\n",
        "    dfytemp.append(pd.concat([dfy0[appindex2], dfy1[appindex2]], axis = 0))\n",
        "  dfyte = dfytemp.pop(kindex)\n",
        "  dfytr = pd.concat([dfytemp[0], dfytemp[1], dfytemp[2], dfytemp[3], dfytemp[4], dfytemp[5], dfytemp[6], dfytemp[7], dfytemp[8]], axis = 0)\n",
        "#   print(dfytr)\n",
        "#   print(dfyte)\n",
        "#   break\n",
        "  dfytegt = dfyte[['y']]\n",
        "  dfytepa = dfyte.drop(['y'], axis = 1)\n",
        "  dfytrgt = dfytr[['y']]\n",
        "  dfytrpa = dfytr.drop(['y'], axis = 1)  \n",
        "# xte = testdf.drop(['y', 'patient'], axis = 1)\n",
        "# gte = testdf[['y']]#   training = np.delete(dytot, kindex)\n",
        "#   testing = dytot[kindex]\n",
        "  alferror = []\n",
        "  for alfindex in alphas:\n",
        "    print('current regularization strength value is %f' %alfindex)\n",
        "    # glm2 = lm.SGDClassifier(loss = 'log', penalty = 'l1', max_iter = 150)\n",
        "# glm2.fit(xtr, np.ravel(ytr.values))\n",
        "    glm = lm.SGDClassifier(loss = 'log', penalty = 'l1', alpha = alfindex, max_iter = 150) \n",
        "    glm.fit(dfytrpa, np.ravel(dfytrgt.values))\n",
        "    dfyteyte = np.exp(dfytepa @ np.transpose(glm.coef_), dtype=np.float128) / (1 + np.exp(dfytepa @ np.transpose(glm.coef_), dtype=np.float128))\n",
        "    error = np.sum((dfytegt.values - dfyteyte.values) ** 2) + alfindex * np.sum(np.abs(glm.coef_))\n",
        "    alferror.append(error)\n",
        "  \n",
        "  fites.append(alferror)\n",
        "  \n",
        "\n",
        "\n",
        "    \n",
        "    \n",
        "    \n",
        "    \n",
        "    "
      ],
      "execution_count": 8,
      "outputs": [
        {
          "output_type": "stream",
          "text": [
            "current k-fold is 0.000000\n",
            "current regularization strength value is 0.000100\n",
            "current regularization strength value is 0.000200\n",
            "current regularization strength value is 0.000300\n",
            "current regularization strength value is 0.000400\n",
            "current regularization strength value is 0.000500\n",
            "current regularization strength value is 0.000600\n",
            "current regularization strength value is 0.000700\n",
            "current regularization strength value is 0.000800\n",
            "current regularization strength value is 0.000900\n",
            "current regularization strength value is 0.001000\n",
            "current k-fold is 1.000000\n",
            "current regularization strength value is 0.000100\n",
            "current regularization strength value is 0.000200\n",
            "current regularization strength value is 0.000300\n",
            "current regularization strength value is 0.000400\n",
            "current regularization strength value is 0.000500\n",
            "current regularization strength value is 0.000600\n",
            "current regularization strength value is 0.000700\n",
            "current regularization strength value is 0.000800\n",
            "current regularization strength value is 0.000900\n",
            "current regularization strength value is 0.001000\n",
            "current k-fold is 2.000000\n",
            "current regularization strength value is 0.000100\n",
            "current regularization strength value is 0.000200\n",
            "current regularization strength value is 0.000300\n",
            "current regularization strength value is 0.000400\n",
            "current regularization strength value is 0.000500\n",
            "current regularization strength value is 0.000600\n",
            "current regularization strength value is 0.000700\n",
            "current regularization strength value is 0.000800\n",
            "current regularization strength value is 0.000900\n",
            "current regularization strength value is 0.001000\n",
            "current k-fold is 3.000000\n",
            "current regularization strength value is 0.000100\n",
            "current regularization strength value is 0.000200\n",
            "current regularization strength value is 0.000300\n",
            "current regularization strength value is 0.000400\n",
            "current regularization strength value is 0.000500\n",
            "current regularization strength value is 0.000600\n",
            "current regularization strength value is 0.000700\n",
            "current regularization strength value is 0.000800\n",
            "current regularization strength value is 0.000900\n",
            "current regularization strength value is 0.001000\n",
            "current k-fold is 4.000000\n",
            "current regularization strength value is 0.000100\n",
            "current regularization strength value is 0.000200\n",
            "current regularization strength value is 0.000300\n",
            "current regularization strength value is 0.000400\n",
            "current regularization strength value is 0.000500\n",
            "current regularization strength value is 0.000600\n",
            "current regularization strength value is 0.000700\n",
            "current regularization strength value is 0.000800\n",
            "current regularization strength value is 0.000900\n",
            "current regularization strength value is 0.001000\n",
            "current k-fold is 5.000000\n",
            "current regularization strength value is 0.000100\n",
            "current regularization strength value is 0.000200\n",
            "current regularization strength value is 0.000300\n",
            "current regularization strength value is 0.000400\n",
            "current regularization strength value is 0.000500\n",
            "current regularization strength value is 0.000600\n",
            "current regularization strength value is 0.000700\n",
            "current regularization strength value is 0.000800\n",
            "current regularization strength value is 0.000900\n",
            "current regularization strength value is 0.001000\n",
            "current k-fold is 6.000000\n",
            "current regularization strength value is 0.000100\n",
            "current regularization strength value is 0.000200\n",
            "current regularization strength value is 0.000300\n",
            "current regularization strength value is 0.000400\n",
            "current regularization strength value is 0.000500\n",
            "current regularization strength value is 0.000600\n",
            "current regularization strength value is 0.000700\n",
            "current regularization strength value is 0.000800\n",
            "current regularization strength value is 0.000900\n",
            "current regularization strength value is 0.001000\n",
            "current k-fold is 7.000000\n",
            "current regularization strength value is 0.000100\n",
            "current regularization strength value is 0.000200\n",
            "current regularization strength value is 0.000300\n",
            "current regularization strength value is 0.000400\n",
            "current regularization strength value is 0.000500\n",
            "current regularization strength value is 0.000600\n",
            "current regularization strength value is 0.000700\n",
            "current regularization strength value is 0.000800\n",
            "current regularization strength value is 0.000900\n",
            "current regularization strength value is 0.001000\n",
            "current k-fold is 8.000000\n",
            "current regularization strength value is 0.000100\n",
            "current regularization strength value is 0.000200\n",
            "current regularization strength value is 0.000300\n",
            "current regularization strength value is 0.000400\n",
            "current regularization strength value is 0.000500\n",
            "current regularization strength value is 0.000600\n",
            "current regularization strength value is 0.000700\n",
            "current regularization strength value is 0.000800\n",
            "current regularization strength value is 0.000900\n",
            "current regularization strength value is 0.001000\n",
            "current k-fold is 9.000000\n",
            "current regularization strength value is 0.000100\n",
            "current regularization strength value is 0.000200\n",
            "current regularization strength value is 0.000300\n",
            "current regularization strength value is 0.000400\n",
            "current regularization strength value is 0.000500\n",
            "current regularization strength value is 0.000600\n",
            "current regularization strength value is 0.000700\n",
            "current regularization strength value is 0.000800\n",
            "current regularization strength value is 0.000900\n",
            "current regularization strength value is 0.001000\n"
          ],
          "name": "stdout"
        }
      ]
    },
    {
      "cell_type": "code",
      "metadata": {
        "id": "H2xNkgHJM7n_",
        "colab_type": "code",
        "colab": {}
      },
      "source": [
        "# fites[0]\n",
        "fites2 = np.vstack((fites[0],fites[1],fites[2],fites[3],fites[4],fites[5],fites[6],fites[7],fites[8],fites[9]))\n",
        "fites3 = np.mean(fites2, axis = 0)"
      ],
      "execution_count": 0,
      "outputs": []
    },
    {
      "cell_type": "code",
      "metadata": {
        "id": "tbIra5tmotvG",
        "colab_type": "code",
        "colab": {}
      },
      "source": [
        "# # glm.coef_.values\n",
        "minind = np.argmin(fites3)\n",
        "talpha = alphas[minind]\n",
        "# print(fites3)\n",
        "# print(fites2)"
      ],
      "execution_count": 0,
      "outputs": []
    },
    {
      "cell_type": "code",
      "metadata": {
        "id": "csQRQJsckAbF",
        "colab_type": "code",
        "colab": {
          "base_uri": "https://localhost:8080/",
          "height": 34
        },
        "outputId": "b1f14005-eec9-43e5-e9c7-0b6b4382cde7"
      },
      "source": [
        "print('optimal regularization strength value is %f' %talpha)"
      ],
      "execution_count": 11,
      "outputs": [
        {
          "output_type": "stream",
          "text": [
            "optimal regularization strength value is 0.001000\n"
          ],
          "name": "stdout"
        }
      ]
    },
    {
      "cell_type": "code",
      "metadata": {
        "id": "r6WfHW05p0q8",
        "colab_type": "code",
        "colab": {
          "base_uri": "https://localhost:8080/",
          "height": 119
        },
        "outputId": "bf83f87e-0cd9-4d06-ae7b-8341ece95a52"
      },
      "source": [
        "glm2 = lm.SGDClassifier(loss = 'log', penalty = 'l1', alpha = talpha, max_iter = 150)\n",
        "glm2.fit(xtr, np.ravel(ytr.values))"
      ],
      "execution_count": 12,
      "outputs": [
        {
          "output_type": "execute_result",
          "data": {
            "text/plain": [
              "SGDClassifier(alpha=0.001, average=False, class_weight=None,\n",
              "              early_stopping=False, epsilon=0.1, eta0=0.0, fit_intercept=True,\n",
              "              l1_ratio=0.15, learning_rate='optimal', loss='log', max_iter=150,\n",
              "              n_iter_no_change=5, n_jobs=None, penalty='l1', power_t=0.5,\n",
              "              random_state=None, shuffle=True, tol=0.001,\n",
              "              validation_fraction=0.1, verbose=0, warm_start=False)"
            ]
          },
          "metadata": {
            "tags": []
          },
          "execution_count": 12
        }
      ]
    },
    {
      "cell_type": "code",
      "metadata": {
        "id": "YQJTiQY66zjF",
        "colab_type": "code",
        "colab": {}
      },
      "source": [
        "normalized_dfte = (testdf - testdf.mean())/testdf.std()\n",
        "normalized_dfte = normalized_dfte.drop(['y', 'patient'], axis = 1)\n",
        "normalized_dfte = pd.concat([normalized_dfte, testdf[['y']]], axis = 1)"
      ],
      "execution_count": 0,
      "outputs": []
    },
    {
      "cell_type": "code",
      "metadata": {
        "id": "5CB2UH5z7V7w",
        "colab_type": "code",
        "colab": {}
      },
      "source": [
        "gte = testdf[['y']]\n",
        "xte = normalized_dfte.drop(['y'], axis = 1)\n",
        "yte = np.exp(xte @ np.transpose(glm2.coef_)) / (1 + np.exp(xte @ np.transpose(glm2.coef_)))\n",
        "# yte = glm2.predict(xte)"
      ],
      "execution_count": 0,
      "outputs": []
    },
    {
      "cell_type": "code",
      "metadata": {
        "id": "UWzTOeIb_51l",
        "colab_type": "code",
        "colab": {}
      },
      "source": [
        "ytrte = np.exp(xtr @ np.transpose(glm2.coef_)) / (1 + np.exp(xtr @ np.transpose(glm2.coef_)))\n",
        "# print(np.squeeze(ytrte.values.shape))\n",
        "# print(np.ravel(ytr).shape)\n",
        "# ytrte = glm2.predict(xtr)"
      ],
      "execution_count": 0,
      "outputs": []
    },
    {
      "cell_type": "code",
      "metadata": {
        "id": "7RrBVSdH8JHv",
        "colab_type": "code",
        "colab": {
          "base_uri": "https://localhost:8080/",
          "height": 295
        },
        "outputId": "810d3fe8-3f6a-4851-d328-0921c4048bbc"
      },
      "source": [
        "fpr_tr, tpr_tr, threshold_tr = skl.metrics.roc_curve(ytr.values, ytrte)\n",
        "roc_auc_tr = skl.metrics.auc(fpr_tr, tpr_tr)\n",
        "\n",
        "plt.title('Training Data Receiver Operating Characteristic')\n",
        "plt.plot(fpr_tr, tpr_tr, 'b', label = 'AUC = %0.2f' % roc_auc_tr)\n",
        "plt.legend(loc = 'lower right')\n",
        "plt.plot([0, 1], [0, 1],'r--')\n",
        "plt.xlim([0, 1])\n",
        "plt.ylim([0, 1])\n",
        "plt.ylabel('True Positive Rate')\n",
        "plt.xlabel('False Positive Rate')\n",
        "plt.show()"
      ],
      "execution_count": 16,
      "outputs": [
        {
          "output_type": "display_data",
          "data": {
            "image/png": "[encoded data removed]",
            "text/plain": [
              "<Figure size 432x288 with 1 Axes>"
            ]
          },
          "metadata": {
            "tags": []
          }
        }
      ]
    },
    {
      "cell_type": "code",
      "metadata": {
        "id": "YGiItTfcQIWe",
        "colab_type": "code",
        "colab": {
          "base_uri": "https://localhost:8080/",
          "height": 295
        },
        "outputId": "c5111cf0-d589-4d7e-d35c-8566d4749c63"
      },
      "source": [
        "fpr_te, tpr_te, threshold_te = skl.metrics.roc_curve(gte.values, yte)\n",
        "roc_auc_te = skl.metrics.auc(fpr_te, tpr_te)\n",
        "\n",
        "plt.title('Testing Receiver Operating Characteristic')\n",
        "plt.plot(fpr_te, tpr_te, 'b', label = 'AUC = %0.2f' % roc_auc_te)\n",
        "plt.legend(loc = 'lower right')\n",
        "plt.plot([0, 1], [0, 1],'r--')\n",
        "plt.xlim([0, 1])\n",
        "plt.ylim([0, 1])\n",
        "plt.ylabel('True Positive Rate')\n",
        "plt.xlabel('False Positive Rate')\n",
        "plt.show()"
      ],
      "execution_count": 17,
      "outputs": [
        {
          "output_type": "display_data",
          "data": {
            "image/png": "[encoded data removed]",
            "text/plain": [
              "<Figure size 432x288 with 1 Axes>"
            ]
          },
          "metadata": {
            "tags": []
          }
        }
      ]
    },
    {
      "cell_type": "code",
      "metadata": {
        "id": "VtCNPLo9_a3m",
        "colab_type": "code",
        "colab": {
          "base_uri": "https://localhost:8080/",
          "height": 346
        },
        "outputId": "36696b21-a79b-4d4a-e64a-3acaad3e6bda"
      },
      "source": [
        "dist_te = (fpr_te ** 2 + (tpr_te - 1) ** 2) ** (0.5)\n",
        "thrindex_te = np.argmin(dist_te)\n",
        "three_te = threshold_te[thrindex_te]\n",
        "print('Optimal threshold for testing data is %f' %three_te)\n",
        "otpr_te = tpr_te[thrindex_te]\n",
        "ofpr_te = fpr_te[thrindex_te]\n",
        "print('optimal threshold testing sensitivity is %f' %otpr_te)\n",
        "print('optimal threshold testing specificity is %f' %(1-ofpr_te))\n",
        "\n",
        "\n",
        "plt.title('Testing Receiver Operating Characteristic')\n",
        "plt.plot(fpr_te, tpr_te, 'b', label = 'AUC = %0.2f' % roc_auc_te)\n",
        "plt.scatter(ofpr_te, otpr_te)\n",
        "plt.legend(loc = 'lower right')\n",
        "plt.plot([0, 1], [0, 1],'r--')\n",
        "plt.xlim([0, 1])\n",
        "plt.ylim([0, 1])\n",
        "plt.ylabel('True Positive Rate')\n",
        "plt.xlabel('False Positive Rate')\n",
        "plt.show()"
      ],
      "execution_count": 18,
      "outputs": [
        {
          "output_type": "stream",
          "text": [
            "Optimal threshold for testing data is 0.700784\n",
            "optimal threshold testing sensitivity is 0.584435\n",
            "optimal threshold testing specificity is 0.672449\n"
          ],
          "name": "stdout"
        },
        {
          "output_type": "display_data",
          "data": {
            "image/png": "[encoded data removed]",
            "text/plain": [
              "<Figure size 432x288 with 1 Axes>"
            ]
          },
          "metadata": {
            "tags": []
          }
        }
      ]
    },
    {
      "cell_type": "code",
      "metadata": {
        "id": "66MBg59gSpWb",
        "colab_type": "code",
        "colab": {
          "base_uri": "https://localhost:8080/",
          "height": 346
        },
        "outputId": "398b3476-9cbc-44e0-f845-343121e9ffb0"
      },
      "source": [
        "dist_tr = (fpr_tr ** 2 + (tpr_tr - 1) ** 2) ** (0.5)\n",
        "thrindex_tr = np.argmin(dist_tr)\n",
        "three_tr = threshold_tr[thrindex_tr]\n",
        "print('Optimal threshold value for training data is %f' %three_tr)\n",
        "\n",
        "otpr_tr = tpr_tr[thrindex_tr]\n",
        "ofpr_tr = fpr_tr[thrindex_tr]\n",
        "\n",
        "print('optimal threshold training sensitivity is %f' %otpr_tr)\n",
        "print('optimal threshold training specificity is %f' %(1-ofpr_tr))\n",
        "\n",
        "plt.title('Training Receiver Operating Characteristic')\n",
        "plt.plot(fpr_tr, tpr_tr, 'b', label = 'AUC = %0.2f' % roc_auc_tr)\n",
        "plt.scatter(ofpr_tr, otpr_tr)\n",
        "plt.legend(loc = 'lower right')\n",
        "plt.plot([0, 1], [0, 1],'r--')\n",
        "plt.xlim([0, 1])\n",
        "plt.ylim([0, 1])\n",
        "plt.ylabel('True Positive Rate')\n",
        "plt.xlabel('False Positive Rate')\n",
        "plt.show()"
      ],
      "execution_count": 19,
      "outputs": [
        {
          "output_type": "stream",
          "text": [
            "Optimal threshold value for training data is 0.775937\n",
            "optimal threshold training sensitivity is 0.865317\n",
            "optimal threshold training specificity is 0.869714\n"
          ],
          "name": "stdout"
        },
        {
          "output_type": "display_data",
          "data": {
            "image/png": "[encoded data removed]",
            "text/plain": [
              "<Figure size 432x288 with 1 Axes>"
            ]
          },
          "metadata": {
            "tags": []
          }
        }
      ]
    },
    {
      "cell_type": "code",
      "metadata": {
        "id": "DhZuc5wDfpVz",
        "colab_type": "code",
        "colab": {
          "base_uri": "https://localhost:8080/",
          "height": 71
        },
        "outputId": "535d2446-7d40-47ef-9c4d-2b7c9bc4a5f8"
      },
      "source": [
        "timestamps = pd.read_csv(\"https://www.dropbox.com/s/s2jvnr4th6zzibf/timestamps.test.csv?dl=1\", index_col = 0)\n",
        "onsets = pd.read_csv(\"https://www.dropbox.com/s/uy9ngm0nuo0nmdp/test.onsets.csv?dl=1\", index_col = 0)\n",
        "# timestamps.head()"
      ],
      "execution_count": 20,
      "outputs": [
        {
          "output_type": "stream",
          "text": [
            "/usr/local/lib/python3.6/dist-packages/numpy/lib/arraysetops.py:569: FutureWarning: elementwise comparison failed; returning scalar instead, but in the future will perform elementwise comparison\n",
            "  mask |= (ar1 == a)\n"
          ],
          "name": "stderr"
        }
      ]
    },
    {
      "cell_type": "code",
      "metadata": {
        "id": "OM9Nt7DQ4No8",
        "colab_type": "code",
        "colab": {}
      },
      "source": [
        "# testdf[['y']]"
      ],
      "execution_count": 0,
      "outputs": []
    },
    {
      "cell_type": "code",
      "metadata": {
        "id": "1s1OxfQitmx0",
        "colab_type": "code",
        "colab": {
          "base_uri": "https://localhost:8080/",
          "height": 102
        },
        "outputId": "99815e1b-e73f-4da3-c8c8-6b870c7f907c"
      },
      "source": [
        "# norm_dfte = (testdf - testdf.mean())/testdf.std()\n",
        "# norm_dfte = norm_dfte.drop(['y'], axis = 1)\n",
        "# norm_dfte = pd.concat([norm_dfte, testdf[['y']]], axis = 1)\n",
        "ytimete = pd.concat([testdf[['patient']], testdf[['y']], yte, timestamps], axis = 1)\n",
        "ysep = ytimete.loc[(ytimete.y == 1)]\n",
        "# tsf = timestamps[(ytimete.y == 1)]\n",
        "ysep.rename(columns={0: \"yte\"}, inplace = True)\n",
        "# print(ysep)\n",
        "# ysep.head()\n",
        "ysep.yte.values[(ysep.yte > three_te)] = 1\n",
        "ysep.yte.values[(ysep.yte < three_te)] = 0\n",
        "# print(ysep)\n",
        "\n"
      ],
      "execution_count": 22,
      "outputs": [
        {
          "output_type": "stream",
          "text": [
            "/usr/local/lib/python3.6/dist-packages/pandas/core/frame.py:4025: SettingWithCopyWarning: \n",
            "A value is trying to be set on a copy of a slice from a DataFrame\n",
            "\n",
            "See the caveats in the documentation: http://pandas.pydata.org/pandas-docs/stable/indexing.html#indexing-view-versus-copy\n",
            "  return super(DataFrame, self).rename(**kwargs)\n"
          ],
          "name": "stderr"
        }
      ]
    },
    {
      "cell_type": "code",
      "metadata": {
        "id": "1SvrIr7k0kX7",
        "colab_type": "code",
        "colab": {}
      },
      "source": [
        "tetimes = []\n"
      ],
      "execution_count": 0,
      "outputs": []
    },
    {
      "cell_type": "code",
      "metadata": {
        "id": "tsl5gQ6z3NZy",
        "colab_type": "code",
        "colab": {}
      },
      "source": [
        "# ysep[ysep.patient == 5630]"
      ],
      "execution_count": 0,
      "outputs": []
    },
    {
      "cell_type": "code",
      "metadata": {
        "id": "hIB0_83U3VdC",
        "colab_type": "code",
        "colab": {}
      },
      "source": [
        "# ysep[ysep.patient == 5630][ysep.yte == 1]"
      ],
      "execution_count": 0,
      "outputs": []
    },
    {
      "cell_type": "code",
      "metadata": {
        "id": "C6QNCvks3LlY",
        "colab_type": "code",
        "colab": {
          "base_uri": "https://localhost:8080/",
          "height": 71
        },
        "outputId": "5cc9b169-ca44-4a26-9498-fe843c4a0143"
      },
      "source": [
        "pnum = 6737 - 1113\n",
        "for pindex in range(pnum, 6738):\n",
        "  yseptes = ysep[ysep.patient == pindex][ysep.yte == 1]\n",
        "  if len(yseptes) > 0:\n",
        "    tetimes.append(yseptes.x.values[0])\n",
        "  else:\n",
        "    tetimes.append(0)"
      ],
      "execution_count": 26,
      "outputs": [
        {
          "output_type": "stream",
          "text": [
            "/usr/local/lib/python3.6/dist-packages/ipykernel_launcher.py:3: UserWarning: Boolean Series key will be reindexed to match DataFrame index.\n",
            "  This is separate from the ipykernel package so we can avoid doing imports until\n"
          ],
          "name": "stderr"
        }
      ]
    },
    {
      "cell_type": "code",
      "metadata": {
        "id": "GQmHURsa4BfP",
        "colab_type": "code",
        "colab": {
          "base_uri": "https://localhost:8080/",
          "height": 329
        },
        "outputId": "e6595648-eb2f-4e6e-b3e2-b047b6358ef8"
      },
      "source": [
        "warn = []\n",
        "\n",
        "for windex in range(0, len(tetimes)):\n",
        "  if tetimes[windex] == 0:\n",
        "    warn.append(0)\n",
        "  else:\n",
        "    tetimes_val = dt.strptime(np.str(tetimes[windex]),'%Y-%m-%d %H:%M:%S')\n",
        "    tets = tetimes_val.timestamp()\n",
        "    ons_val = dt.strptime(np.str(onsets.values[windex][0]),'%Y-%m-%d %H:%M:%S')\n",
        "    onss = ons_val.timestamp()\n",
        "    warn.append(onss - tets)\n",
        "\n",
        "warn = np.array(warn)/3600\n",
        "\n",
        "median = np.median(warn)\n",
        "print('Median Early Warning Time: %f hours' %median)\n",
        "\n",
        "warbins = np.arange(0,np.max(warn), 100)\n",
        "\n",
        "plt.figure()\n",
        "plt.hist(warn, bins = warbins)\n",
        "plt.xlabel('EWT (hours)')\n",
        "plt.ylabel('Frequency')\n",
        "plt.title('EWT Frequency Histogram')\n",
        "\n",
        "plt.axvline(x=median, color = 'r',label = 'Median = %f hours' %median)\n",
        "plt.legend(loc = 'upper right')\n",
        "\n"
      ],
      "execution_count": 27,
      "outputs": [
        {
          "output_type": "stream",
          "text": [
            "Median Early Warning Time: 6.500000 hours\n"
          ],
          "name": "stdout"
        },
        {
          "output_type": "execute_result",
          "data": {
            "text/plain": [
              "<matplotlib.legend.Legend at 0x7fb6c5248da0>"
            ]
          },
          "metadata": {
            "tags": []
          },
          "execution_count": 27
        },
        {
          "output_type": "display_data",
          "data": {
            "image/png": "[encoded data removed]",
            "text/plain": [
              "<Figure size 432x288 with 1 Axes>"
            ]
          },
          "metadata": {
            "tags": []
          }
        }
      ]
    },
    {
      "cell_type": "code",
      "metadata": {
        "id": "DRtojTvc-5By",
        "colab_type": "code",
        "colab": {}
      },
      "source": [
        "# onsets.values.size\n",
        "# tetimes\n",
        "\n",
        "# print(np.argmax(warn))\n",
        "# print(tetimes[420:430])\n",
        "# print(onsets.values[423][0])"
      ],
      "execution_count": 0,
      "outputs": []
    },
    {
      "cell_type": "code",
      "metadata": {
        "id": "nTwnq9JrDlMs",
        "colab_type": "code",
        "colab": {
          "base_uri": "https://localhost:8080/",
          "height": 71
        },
        "outputId": "469a5b04-ab1b-46c8-c0b8-ba05d3439e04"
      },
      "source": [
        "from imblearn.over_sampling import SMOTE\n",
        "\n",
        "# Resample the minority class. You can change the strategy to 'auto' if you are not sure.\n",
        "smot = SMOTE(sampling_strategy='minority', random_state=7)\n",
        "\n",
        "# # Fit the model to generate the data.\n",
        "oversampled_trainX, oversampled_trainY = smot.fit_sample(xtr, np.ravel(ytr.values))\n",
        "# oversampled_train = pd.concat([pd.DataFrame(oversampled_trainY), pd.DataFrame(oversampled_trainX)], axis=1)\n",
        "\n"
      ],
      "execution_count": 29,
      "outputs": [
        {
          "output_type": "stream",
          "text": [
            "/usr/local/lib/python3.6/dist-packages/sklearn/externals/six.py:31: DeprecationWarning: The module is deprecated in version 0.21 and will be removed in version 0.23 since we've dropped support for Python 2.7. Please rely on the official version of six (https://pypi.org/project/six/).\n",
            "  \"(https://pypi.org/project/six/).\", DeprecationWarning)\n"
          ],
          "name": "stderr"
        }
      ]
    },
    {
      "cell_type": "code",
      "metadata": {
        "id": "HxX-SLboFqZE",
        "colab_type": "code",
        "colab": {}
      },
      "source": [
        "oversampled_train = pd.concat([pd.DataFrame(oversampled_trainX), pd.DataFrame(oversampled_trainY)], axis=1)\n",
        "oversampled_train.columns = trainingdf.columns\n"
      ],
      "execution_count": 0,
      "outputs": []
    },
    {
      "cell_type": "code",
      "metadata": {
        "id": "l2XCZL45GbS-",
        "colab_type": "code",
        "colab": {}
      },
      "source": [
        "# print(xtr.shape)\n",
        "# print((oversampled_train.y.values == 1).shape)\n",
        "# print((oversampled_train.y.values == 0).shape)"
      ],
      "execution_count": 0,
      "outputs": []
    },
    {
      "cell_type": "code",
      "metadata": {
        "id": "Y7Puh8_1G3Vv",
        "colab_type": "code",
        "colab": {
          "base_uri": "https://localhost:8080/",
          "height": 1904
        },
        "outputId": "f304a4d6-30bd-49af-c07c-72e667567677"
      },
      "source": [
        "alphas2 = np.linspace(0.0001, 0.001, num = 10)\n",
        "trainingdfy12 = oversampled_train.loc[(oversampled_train.y == 1)]\n",
        "trainingdfy02 = oversampled_train.loc[(oversampled_train.y == 0)]\n",
        "dfsplits2 = np.linspace(0, 1, num = 11)\n",
        "count2 = 0\n",
        "dfy12 = []\n",
        "dfy02 = []\n",
        "leny02 = len(trainingdfy02.index)\n",
        "leny12 = len(trainingdfy12.index)\n",
        "for splindex2 in dfsplits2:\n",
        "  if count2 == 10:\n",
        "    break\n",
        "  dfy12.append(trainingdfy12[np.int(np.floor(splindex2 * leny12)):np.int(np.floor(dfsplits2[count2 + 1] * leny12))])\n",
        "  dfy02.append(trainingdfy02[np.int(np.floor(splindex2 * leny02)):np.int(np.floor(dfsplits2[count2 + 1] * leny02))])\n",
        "  count2 += 1\n",
        "  \n",
        "fites12 = []\n",
        "for kindex2 in range(0, 10):\n",
        "  dfytemp2 = []\n",
        "  print('current k-fold is %f' %kindex2)\n",
        "  for appindex22 in range(0, 10):\n",
        "    dfytemp2.append(pd.concat([dfy02[appindex22], dfy12[appindex22]], axis = 0))\n",
        "  dfyte2 = dfytemp2.pop(kindex2)\n",
        "  dfytr2 = pd.concat([dfytemp2[0], dfytemp2[1], dfytemp2[2], dfytemp2[3], dfytemp2[4], dfytemp2[5], dfytemp2[6], dfytemp2[7], dfytemp2[8]], axis = 0)\n",
        "#   print(dfytr)\n",
        "#   print(dfyte)\n",
        "#   break\n",
        "  dfytegt2 = dfyte2[['y']]\n",
        "  dfytepa2 = dfyte2.drop(['y'], axis = 1)\n",
        "  dfytrgt2 = dfytr2[['y']]\n",
        "  dfytrpa2 = dfytr2.drop(['y'], axis = 1)  \n",
        "# xte = testdf.drop(['y', 'patient'], axis = 1)\n",
        "# gte = testdf[['y']]#   training = np.delete(dytot, kindex)\n",
        "#   testing = dytot[kindex]\n",
        "  alferror2 = []\n",
        "  for alfindex2 in alphas2:\n",
        "    print('current regularization strength value is %f' %alfindex2)\n",
        "    # glm2 = lm.SGDClassifier(loss = 'log', penalty = 'l1', max_iter = 150)\n",
        "# glm2.fit(xtr, np.ravel(ytr.values))\n",
        "    glm12 = lm.SGDClassifier(loss = 'log', penalty = 'l1', alpha = alfindex2, max_iter = 150) \n",
        "    glm12.fit(dfytrpa2, np.ravel(dfytrgt2.values))\n",
        "    dfyteyte2 = np.exp(dfytepa2 @ np.transpose(glm12.coef_), dtype=np.float128) / (1 + np.exp(dfytepa2 @ np.transpose(glm12.coef_), dtype=np.float128))\n",
        "    error2 = np.sum((dfytegt2.values - dfyteyte2.values) ** 2) + alfindex2 * np.sum(np.abs(glm12.coef_))\n",
        "    alferror2.append(error2)\n",
        "  \n",
        "  fites12.append(alferror2)\n",
        "  \n",
        "fites22 = np.vstack((fites12[0],fites12[1],fites12[2],fites12[3],fites12[4],fites12[5],fites12[6],fites12[7],fites12[8],fites12[9]))\n",
        "fites32 = np.mean(fites22, axis = 0)\n",
        "\n",
        "minind2 = np.argmin(fites32)\n",
        "talpha2 = alphas2[minind2]\n",
        "print('Optimal regularization strength value is %f' %talpha2)\n",
        "# glm22 = lm.SGDClassifier(loss = 'log', penalty = 'l1', alpha = talpha2, max_iter = 150)\n",
        "# glm22.fit(oversampled_train.drop('y', axis=1), np.ravel(oversampled_train['y'].values))\n",
        "\n",
        "# gte2 = testdf[['y']]\n",
        "# xte2 = normalized_dfte.drop(['y'], axis = 1)\n",
        "# # yte2 = np.exp(xte @ np.transpose(glm22.coef_)) / (1 + np.exp(xte @ np.transpose(glm22.coef_)))\n",
        "# yte2 = glm2.predict(xte)\n",
        "# # ytrte2 = np.exp(oversampled_train.drop('y', axis = 1) @ np.transpose(glm22.coef_)) / (1 + np.exp(oversampled_train.drop('y', axis = 1) @ np.transpose(glm22.coef_)))\n",
        "# ytrte2 = glm2.predict(oversampled_train.drop('y', axis = 1))\n",
        "# fpr_tr2, tpr_tr2, threshold_tr2 = skl.metrics.roc_curve(oversampled_train['y'].values, ytrte2)\n",
        "# roc_auc_tr2 = skl.metrics.auc(fpr_tr2, tpr_tr2)\n",
        "\n",
        "# plt.title('Receiver Operating Characteristic')\n",
        "# plt.plot(fpr_tr2, tpr_tr2, 'b', label = 'AUC = %0.2f' % roc_auc_tr2)\n",
        "# plt.legend(loc = 'lower right')\n",
        "# # plt.plot([0, 1], [0, 1],'r--')\n",
        "# plt.xlim([0, 1])\n",
        "# plt.ylim([0, 1])\n",
        "# plt.ylabel('True Positive Rate')\n",
        "# plt.xlabel('False Positive Rate')\n",
        "# plt.show()\n",
        "\n",
        "# fpr_te2, tpr_te2, threshold_te2 = skl.metrics.roc_curve(gte2.values, yte2)\n",
        "# roc_auc_te2 = skl.metrics.auc(fpr_te2, tpr_te2)\n",
        "\n",
        "# plt.title('Receiver Operating Characteristic')\n",
        "# plt.plot(fpr_te2, tpr_te2, 'b', label = 'AUC = %0.2f' % roc_auc_te2)\n",
        "# plt.legend(loc = 'lower right')\n",
        "# # plt.plot([0, 1], [0, 1],'r--')\n",
        "# plt.xlim([0, 1])\n",
        "# plt.ylim([0, 1])\n",
        "# plt.ylabel('True Positive Rate')\n",
        "# plt.xlabel('False Positive Rate')\n",
        "# plt.show()\n",
        "\n",
        "# dist_te2 = (fpr_te2 ** 2 + (tpr_te2 - 1) ** 2) ** (0.5)\n",
        "# thrindex_te2 = np.argmin(dist_te2)\n",
        "# three_te2 = threshold_te2[thrindex_te2]\n",
        "# print(three_te2)\n",
        "\n",
        "# dist_tr2 = (fpr_tr2 ** 2 + (tpr_tr2 - 1) ** 2) ** (0.5)\n",
        "# thrindex_tr2 = np.argmin(dist_tr2)\n",
        "# three_tr2 = threshold_tr2[thrindex_tr2]\n",
        "# print(three_tr2)\n"
      ],
      "execution_count": 32,
      "outputs": [
        {
          "output_type": "stream",
          "text": [
            "current k-fold is 0.000000\n",
            "current regularization strength value is 0.000100\n",
            "current regularization strength value is 0.000200\n",
            "current regularization strength value is 0.000300\n",
            "current regularization strength value is 0.000400\n",
            "current regularization strength value is 0.000500\n",
            "current regularization strength value is 0.000600\n",
            "current regularization strength value is 0.000700\n",
            "current regularization strength value is 0.000800\n",
            "current regularization strength value is 0.000900\n",
            "current regularization strength value is 0.001000\n",
            "current k-fold is 1.000000\n",
            "current regularization strength value is 0.000100\n",
            "current regularization strength value is 0.000200\n",
            "current regularization strength value is 0.000300\n",
            "current regularization strength value is 0.000400\n",
            "current regularization strength value is 0.000500\n",
            "current regularization strength value is 0.000600\n",
            "current regularization strength value is 0.000700\n",
            "current regularization strength value is 0.000800\n",
            "current regularization strength value is 0.000900\n",
            "current regularization strength value is 0.001000\n",
            "current k-fold is 2.000000\n",
            "current regularization strength value is 0.000100\n",
            "current regularization strength value is 0.000200\n",
            "current regularization strength value is 0.000300\n",
            "current regularization strength value is 0.000400\n",
            "current regularization strength value is 0.000500\n",
            "current regularization strength value is 0.000600\n",
            "current regularization strength value is 0.000700\n",
            "current regularization strength value is 0.000800\n",
            "current regularization strength value is 0.000900\n",
            "current regularization strength value is 0.001000\n",
            "current k-fold is 3.000000\n",
            "current regularization strength value is 0.000100\n",
            "current regularization strength value is 0.000200\n",
            "current regularization strength value is 0.000300\n",
            "current regularization strength value is 0.000400\n",
            "current regularization strength value is 0.000500\n",
            "current regularization strength value is 0.000600\n",
            "current regularization strength value is 0.000700\n",
            "current regularization strength value is 0.000800\n",
            "current regularization strength value is 0.000900\n",
            "current regularization strength value is 0.001000\n",
            "current k-fold is 4.000000\n",
            "current regularization strength value is 0.000100\n",
            "current regularization strength value is 0.000200\n",
            "current regularization strength value is 0.000300\n",
            "current regularization strength value is 0.000400\n",
            "current regularization strength value is 0.000500\n",
            "current regularization strength value is 0.000600\n",
            "current regularization strength value is 0.000700\n",
            "current regularization strength value is 0.000800\n",
            "current regularization strength value is 0.000900\n",
            "current regularization strength value is 0.001000\n",
            "current k-fold is 5.000000\n",
            "current regularization strength value is 0.000100\n",
            "current regularization strength value is 0.000200\n",
            "current regularization strength value is 0.000300\n",
            "current regularization strength value is 0.000400\n",
            "current regularization strength value is 0.000500\n",
            "current regularization strength value is 0.000600\n",
            "current regularization strength value is 0.000700\n",
            "current regularization strength value is 0.000800\n",
            "current regularization strength value is 0.000900\n",
            "current regularization strength value is 0.001000\n",
            "current k-fold is 6.000000\n",
            "current regularization strength value is 0.000100\n",
            "current regularization strength value is 0.000200\n",
            "current regularization strength value is 0.000300\n",
            "current regularization strength value is 0.000400\n",
            "current regularization strength value is 0.000500\n",
            "current regularization strength value is 0.000600\n",
            "current regularization strength value is 0.000700\n",
            "current regularization strength value is 0.000800\n",
            "current regularization strength value is 0.000900\n",
            "current regularization strength value is 0.001000\n",
            "current k-fold is 7.000000\n",
            "current regularization strength value is 0.000100\n",
            "current regularization strength value is 0.000200\n",
            "current regularization strength value is 0.000300\n",
            "current regularization strength value is 0.000400\n",
            "current regularization strength value is 0.000500\n",
            "current regularization strength value is 0.000600\n",
            "current regularization strength value is 0.000700\n",
            "current regularization strength value is 0.000800\n",
            "current regularization strength value is 0.000900\n",
            "current regularization strength value is 0.001000\n",
            "current k-fold is 8.000000\n",
            "current regularization strength value is 0.000100\n",
            "current regularization strength value is 0.000200\n",
            "current regularization strength value is 0.000300\n",
            "current regularization strength value is 0.000400\n",
            "current regularization strength value is 0.000500\n",
            "current regularization strength value is 0.000600\n",
            "current regularization strength value is 0.000700\n",
            "current regularization strength value is 0.000800\n",
            "current regularization strength value is 0.000900\n",
            "current regularization strength value is 0.001000\n",
            "current k-fold is 9.000000\n",
            "current regularization strength value is 0.000100\n",
            "current regularization strength value is 0.000200\n",
            "current regularization strength value is 0.000300\n",
            "current regularization strength value is 0.000400\n",
            "current regularization strength value is 0.000500\n",
            "current regularization strength value is 0.000600\n",
            "current regularization strength value is 0.000700\n",
            "current regularization strength value is 0.000800\n",
            "current regularization strength value is 0.000900\n",
            "current regularization strength value is 0.001000\n",
            "Optimal regularization strength value is 0.000700\n"
          ],
          "name": "stdout"
        }
      ]
    },
    {
      "cell_type": "code",
      "metadata": {
        "id": "P5RMe8IuxHZI",
        "colab_type": "code",
        "colab": {
          "base_uri": "https://localhost:8080/",
          "height": 607
        },
        "outputId": "5fc270bb-8a6a-4c2f-a7c4-37dc6c01d19b"
      },
      "source": [
        "glm22 = lm.SGDClassifier(loss = 'log', penalty = 'l1', alpha = talpha2, max_iter = 150)\n",
        "glm22.fit(oversampled_train.drop('y', axis=1), np.ravel(oversampled_train['y'].values))\n",
        "gte2 = testdf[['y']]\n",
        "xte2 = normalized_dfte.drop(['y'], axis = 1)\n",
        "yte2 = np.exp(xte @ np.transpose(glm22.coef_), dtype=np.float128) / (1 + np.exp(xte @ np.transpose(glm22.coef_), dtype=np.float128))\n",
        "# yte2.values[yte2.values == 'NaN'] = 0\n",
        "# yte2 = glm22.predict(xte)\n",
        "ytrte2 = np.exp(oversampled_train.drop('y', axis = 1) @ np.transpose(glm22.coef_)) / (1 + np.exp(oversampled_train.drop('y', axis = 1) @ np.transpose(glm22.coef_)))\n",
        "# ytrte2 = glm2.predict(oversampled_train.drop('y', axis = 1))\n",
        "fpr_tr2, tpr_tr2, threshold_tr2 = skl.metrics.roc_curve(oversampled_train['y'].values, ytrte2)\n",
        "roc_auc_tr2 = skl.metrics.auc(fpr_tr2, tpr_tr2)\n",
        "\n",
        "plt.title('Training Data Receiver Operating Characteristic')\n",
        "plt.plot(fpr_tr2, tpr_tr2, 'b', label = 'AUC = %0.2f' % roc_auc_tr2)\n",
        "plt.legend(loc = 'lower right')\n",
        "plt.plot([0, 1], [0, 1],'r--')\n",
        "plt.xlim([0, 1])\n",
        "plt.ylim([0, 1])\n",
        "plt.ylabel('True Positive Rate')\n",
        "plt.xlabel('False Positive Rate')\n",
        "plt.show()\n",
        "\n",
        "fpr_te2, tpr_te2, threshold_te2 = skl.metrics.roc_curve(gte2.values, yte2)\n",
        "roc_auc_te2 = skl.metrics.auc(fpr_te2, tpr_te2)\n",
        "\n",
        "plt.title('Testing Data Receiver Operating Characteristic')\n",
        "plt.plot(fpr_te2, tpr_te2, 'b', label = 'AUC = %0.2f' % roc_auc_te2)\n",
        "plt.legend(loc = 'lower right')\n",
        "plt.plot([0, 1], [0, 1],'r--')\n",
        "plt.xlim([0, 1])\n",
        "plt.ylim([0, 1])\n",
        "plt.ylabel('True Positive Rate')\n",
        "plt.xlabel('False Positive Rate')\n",
        "plt.show()\n",
        "\n",
        "dist_te2 = (fpr_te2 ** 2 + (tpr_te2 - 1) ** 2) ** (0.5)\n",
        "thrindex_te2 = np.argmin(dist_te2)\n",
        "three_te2 = threshold_te2[thrindex_te2]\n",
        "print('optimal testing data threshold is %f' %three_te2)\n",
        "\n",
        "dist_tr2 = (fpr_tr2 ** 2 + (tpr_tr2 - 1) ** 2) ** (0.5)\n",
        "thrindex_tr2 = np.argmin(dist_tr2)\n",
        "three_tr2 = threshold_tr2[thrindex_tr2]\n",
        "print('optimal training data threshold is %f' %three_tr2)\n"
      ],
      "execution_count": 33,
      "outputs": [
        {
          "output_type": "display_data",
          "data": {
            "image/png": "[encoded data removed]",
            "text/plain": [
              "<Figure size 432x288 with 1 Axes>"
            ]
          },
          "metadata": {
            "tags": []
          }
        },
        {
          "output_type": "display_data",
          "data": {
            "image/png": "[encoded data removed]",
            "text/plain": [
              "<Figure size 432x288 with 1 Axes>"
            ]
          },
          "metadata": {
            "tags": []
          }
        },
        {
          "output_type": "stream",
          "text": [
            "optimal testing data threshold is 0.720324\n",
            "optimal training data threshold is 0.805552\n"
          ],
          "name": "stdout"
        }
      ]
    },
    {
      "cell_type": "code",
      "metadata": {
        "id": "-OoWmm8wxn2I",
        "colab_type": "code",
        "colab": {}
      },
      "source": [
        "# yte2 = np.exp(xte @ np.transpose(glm22.coef_)) / (1 + np.exp(xte @ np.transpose(glm22.coef_)))\n",
        "# yte2.values[yte2.values == 'NaN'] = 0\n",
        "# np.max(yte2)\n",
        "# np.exp(xte @ np.transpose(glm22.coef_), dtype=np.float128)"
      ],
      "execution_count": 0,
      "outputs": []
    },
    {
      "cell_type": "code",
      "metadata": {
        "id": "o70ibCHRJTbB",
        "colab_type": "code",
        "colab": {
          "base_uri": "https://localhost:8080/",
          "height": 641
        },
        "outputId": "b9b7294b-8c2b-4b83-c3f3-6d396265c9f8"
      },
      "source": [
        "otpr_te2 = tpr_te2[thrindex_te2]\n",
        "ofpr_te2 = fpr_te2[thrindex_te2]\n",
        "otpr_tr2 = tpr_tr2[thrindex_tr2]\n",
        "ofpr_tr2 = fpr_tr2[thrindex_tr2]\n",
        "\n",
        "print('optimal threshold testing sensitivity is %f' %otpr_te2)\n",
        "print('optimal threshold testing specificity is %f' %(1-ofpr_te2))\n",
        "print('optimal threshold training sensitivity is %f' %otpr_tr2)\n",
        "print('optimal threshold training specificity is %f' %(1-ofpr_tr2))\n",
        "\n",
        "plt.title('Testing Receiver Operating Characteristic')\n",
        "plt.plot(fpr_te2, tpr_te2, 'b', label = 'AUC = %0.2f' % roc_auc_te2)\n",
        "plt.scatter(ofpr_te2, otpr_te2)\n",
        "plt.legend(loc = 'lower right')\n",
        "plt.plot([0, 1], [0, 1],'r--')\n",
        "plt.xlim([0, 1])\n",
        "plt.ylim([0, 1])\n",
        "plt.ylabel('True Positive Rate')\n",
        "plt.xlabel('False Positive Rate')\n",
        "plt.show()\n",
        "\n",
        "plt.title('Training Receiver Operating Characteristic')\n",
        "plt.plot(fpr_tr2, tpr_tr2, 'b', label = 'AUC = %0.2f' % roc_auc_tr2)\n",
        "plt.scatter(ofpr_tr2, otpr_tr2)\n",
        "plt.legend(loc = 'lower right')\n",
        "plt.plot([0, 1], [0, 1],'r--')\n",
        "plt.xlim([0, 1])\n",
        "plt.ylim([0, 1])\n",
        "plt.ylabel('True Positive Rate')\n",
        "plt.xlabel('False Positive Rate')\n",
        "plt.show()"
      ],
      "execution_count": 35,
      "outputs": [
        {
          "output_type": "stream",
          "text": [
            "optimal threshold testing sensitivity is 0.584133\n",
            "optimal threshold testing specificity is 0.670240\n",
            "optimal threshold training sensitivity is 0.872685\n",
            "optimal threshold training specificity is 0.876931\n"
          ],
          "name": "stdout"
        },
        {
          "output_type": "display_data",
          "data": {
            "image/png": "[encoded data removed]",
            "text/plain": [
              "<Figure size 432x288 with 1 Axes>"
            ]
          },
          "metadata": {
            "tags": []
          }
        },
        {
          "output_type": "display_data",
          "data": {
            "image/png": "[encoded data removed]",
            "text/plain": [
              "<Figure size 432x288 with 1 Axes>"
            ]
          },
          "metadata": {
            "tags": []
          }
        }
      ]
    },
    {
      "cell_type": "code",
      "metadata": {
        "id": "2eMURS9lKU_m",
        "colab_type": "code",
        "colab": {
          "base_uri": "https://localhost:8080/",
          "height": 468
        },
        "outputId": "a8af4548-c920-4eb3-f4a7-e74e4d077c00"
      },
      "source": [
        "ytimete2 = pd.concat([testdf[['patient']], testdf[['y']], yte2, timestamps], axis = 1)\n",
        "ysep2 = ytimete2.loc[(ytimete2.y == 1)]\n",
        "# tsf = timestamps[(ytimete.y == 1)]\n",
        "ysep2.rename(columns={0: \"yte2\"}, inplace = True)\n",
        "# print(ysep)\n",
        "# ysep.head()\n",
        "ysep2.yte2.values[(ysep2.yte2 > three_te2)] = 1\n",
        "ysep2.yte2.values[(ysep2.yte2 < three_te2)] = 0\n",
        "# print(ysep)\n",
        "tetimes2 = []\n",
        "pnum2 = 6737 - 1113\n",
        "for pindex2 in range(pnum2, 6738):\n",
        "  yseptes2 = ysep2[ysep2.patient == pindex2][ysep2.yte2 == 1]\n",
        "  if len(yseptes2) > 0:\n",
        "    tetimes2.append(yseptes2.x.values[0])\n",
        "  else:\n",
        "    tetimes2.append(0)\n",
        "\n",
        "warn2 = []\n",
        "\n",
        "for windex2 in range(0, len(tetimes2)):\n",
        "  if tetimes2[windex2] == 0:\n",
        "    warn2.append(0)\n",
        "  else:\n",
        "    tetimes_val2 = dt.strptime(np.str(tetimes2[windex2]),'%Y-%m-%d %H:%M:%S')\n",
        "    tets2 = tetimes_val2.timestamp()\n",
        "    ons_val2 = dt.strptime(np.str(onsets.values[windex2][0]),'%Y-%m-%d %H:%M:%S')\n",
        "    onss2 = ons_val2.timestamp()\n",
        "    warn2.append(onss2 - tets2)\n",
        "\n",
        "warn2 = np.array(warn2)/3600\n",
        "# warn[difference < 0] = 0\n",
        "\n",
        "median2 = np.median(warn2)\n",
        "print('Median Early Warning Time: %f hours' %median2)\n",
        "\n",
        "# def roundup(x):\n",
        "#   return int(math.ceil(x / 50)) * 50\n",
        "\n",
        "# maximum = roundup(max(difference))\n",
        "warbins2 = np.arange(0,np.max(warn2), 100)\n",
        "\n",
        "plt.figure()\n",
        "plt.hist(warn2, bins = warbins2)\n",
        "plt.xlabel('EWT (hours)')\n",
        "plt.ylabel('Frequency')\n",
        "plt.title('EWT Frequency Histogram')\n",
        "\n",
        "plt.axvline(x=median2, color = 'r',label = 'Median = %f hours' %median2)\n",
        "plt.legend(loc = 'upper right')"
      ],
      "execution_count": 36,
      "outputs": [
        {
          "output_type": "stream",
          "text": [
            "/usr/local/lib/python3.6/dist-packages/pandas/core/frame.py:4025: SettingWithCopyWarning: \n",
            "A value is trying to be set on a copy of a slice from a DataFrame\n",
            "\n",
            "See the caveats in the documentation: http://pandas.pydata.org/pandas-docs/stable/indexing.html#indexing-view-versus-copy\n",
            "  return super(DataFrame, self).rename(**kwargs)\n",
            "/usr/local/lib/python3.6/dist-packages/ipykernel_launcher.py:13: UserWarning: Boolean Series key will be reindexed to match DataFrame index.\n",
            "  del sys.path[0]\n"
          ],
          "name": "stderr"
        },
        {
          "output_type": "stream",
          "text": [
            "Median Early Warning Time: 6.316667 hours\n"
          ],
          "name": "stdout"
        },
        {
          "output_type": "execute_result",
          "data": {
            "text/plain": [
              "<matplotlib.legend.Legend at 0x7fb6beca36a0>"
            ]
          },
          "metadata": {
            "tags": []
          },
          "execution_count": 36
        },
        {
          "output_type": "display_data",
          "data": {
            "image/png": "[encoded data removed]",
            "text/plain": [
              "<Figure size 432x288 with 1 Axes>"
            ]
          },
          "metadata": {
            "tags": []
          }
        }
      ]
    },
    {
      "cell_type": "code",
      "metadata": {
        "id": "CIey5uhTs3pV",
        "colab_type": "code",
        "colab": {}
      },
      "source": [
        "# tetimes2"
      ],
      "execution_count": 0,
      "outputs": []
    },
    {
      "cell_type": "code",
      "metadata": {
        "id": "mYLGneDZnrxW",
        "colab_type": "code",
        "colab": {}
      },
      "source": [
        "# plt.figure()\n",
        "# plt.plot(yte)\n",
        "# plt.plot(gte.values)"
      ],
      "execution_count": 0,
      "outputs": []
    },
    {
      "cell_type": "code",
      "metadata": {
        "id": "xJZPmEmIcsmV",
        "colab_type": "code",
        "colab": {}
      },
      "source": [
        "# normalized_dftr"
      ],
      "execution_count": 0,
      "outputs": []
    },
    {
      "cell_type": "code",
      "metadata": {
        "id": "QHd0N9B181mC",
        "colab_type": "code",
        "colab": {}
      },
      "source": [
        "# print(splindex)\n",
        "# print(splitlist[counter])\n",
        "# print(counter)\n",
        "# print(xtr.iloc[splindex:splitlist[counter]])\n",
        "# print(ytr.iloc[splindex:splitlist[counter]])\n",
        "# print(ytr.iloc[splitlist[84]:splitlist[85]])\n",
        "# trainingdf.loc[(trainingdf.y == 1)]\n",
        "# print(ytr.axes)"
      ],
      "execution_count": 0,
      "outputs": []
    },
    {
      "cell_type": "code",
      "metadata": {
        "id": "665MNxu0DcIz",
        "colab_type": "code",
        "colab": {}
      },
      "source": [
        "# xtr.axes[1][1]\n"
      ],
      "execution_count": 0,
      "outputs": []
    },
    {
      "cell_type": "code",
      "metadata": {
        "id": "ABr6MI1aDeuW",
        "colab_type": "code",
        "colab": {}
      },
      "source": [
        "# ytr.axes"
      ],
      "execution_count": 0,
      "outputs": []
    },
    {
      "cell_type": "code",
      "metadata": {
        "id": "ZUsx-6Md-nCO",
        "colab_type": "code",
        "colab": {}
      },
      "source": [
        "# glm = lm.LogisticRegressionCV(cv = 10, penalty = 'l1', solver = 'saga')\n",
        "# # glm.fit(xtr, np.ravel(ytr.values))\n",
        "\n",
        "# glm = lm.LogisticRegression(penalty = 'l1', solver = 'saga', max_iter = 150, C = 600)\n",
        "# glm.fit(xtr, np.ravel(ytr.values))\n",
        "\n"
      ],
      "execution_count": 0,
      "outputs": []
    },
    {
      "cell_type": "code",
      "metadata": {
        "id": "B924GkasTfja",
        "colab_type": "code",
        "colab": {}
      },
      "source": [
        "# glm2 = lm.SGDClassifier(loss = 'log', penalty = 'l1', max_iter = 150)\n",
        "# glm2.fit(xtr, np.ravel(ytr.values))\n",
        "# scores = skl.model_selection.cross_val_score(glm, xtr, np.ravel(ytr), cv=10)"
      ],
      "execution_count": 0,
      "outputs": []
    },
    {
      "cell_type": "code",
      "metadata": {
        "id": "Sk6CZf3uDrqP",
        "colab_type": "code",
        "colab": {}
      },
      "source": [
        "# print(glm.coef_)\n",
        "# # print(glm.alpha_)\n",
        "# glm.get_params"
      ],
      "execution_count": 0,
      "outputs": []
    },
    {
      "cell_type": "code",
      "metadata": {
        "id": "SO3Hz0ylDz5A",
        "colab_type": "code",
        "colab": {}
      },
      "source": [
        "# xte = testdf.drop(['y', 'patient'], axis = 1)\n",
        "# gte = testdf[['y']]\n",
        "\n"
      ],
      "execution_count": 0,
      "outputs": []
    },
    {
      "cell_type": "code",
      "metadata": {
        "id": "klqnfHq-H9iT",
        "colab_type": "code",
        "colab": {}
      },
      "source": [
        "# glm.coef_.shape\n",
        "# xte.shape"
      ],
      "execution_count": 0,
      "outputs": []
    },
    {
      "cell_type": "code",
      "metadata": {
        "id": "3tmCKaukH3nT",
        "colab_type": "code",
        "colab": {}
      },
      "source": [
        "# yte = np.exp(xte @ glm.coef_) / (1 + np.exp(xte @ glm.coef_))"
      ],
      "execution_count": 0,
      "outputs": []
    },
    {
      "cell_type": "code",
      "metadata": {
        "id": "9H62GnUzIM1i",
        "colab_type": "code",
        "colab": {}
      },
      "source": [
        "# plt.figure()\n",
        "# plt.plot(gte)\n",
        "# plt.plot(yte)\n",
        "# plt.legend(['gte', 'yte'])"
      ],
      "execution_count": 0,
      "outputs": []
    },
    {
      "cell_type": "code",
      "metadata": {
        "id": "QauOvbLPHSLb",
        "colab_type": "code",
        "colab": {}
      },
      "source": [
        "# verify = trainingdf.loc[(trainingdf.y == 1)]\n",
        "# verify.axes"
      ],
      "execution_count": 0,
      "outputs": []
    },
    {
      "cell_type": "code",
      "metadata": {
        "id": "dknrCuGGHcAJ",
        "colab_type": "code",
        "colab": {}
      },
      "source": [
        "# fpr, tpr, threshold = skl.metrics.roc_curve(gte, yte)\n",
        "# roc_auc = skl.metrics.auc(fpr, tpr)\n"
      ],
      "execution_count": 0,
      "outputs": []
    },
    {
      "cell_type": "code",
      "metadata": {
        "id": "r1q8YQqWI8cn",
        "colab_type": "code",
        "colab": {}
      },
      "source": [
        "# plt.title('Receiver Operating Characteristic')\n",
        "# plt.plot(fpr, tpr, 'b', label = 'AUC = %0.2f' % roc_auc)\n",
        "# plt.legend(loc = 'lower right')\n",
        "# plt.plot([0, 1], [0, 1],'r--')\n",
        "# plt.xlim([0, 1])\n",
        "# plt.ylim([0, 1])\n",
        "# plt.ylabel('True Positive Rate')\n",
        "# plt.xlabel('False Positive Rate')\n",
        "# plt.show()"
      ],
      "execution_count": 0,
      "outputs": []
    },
    {
      "cell_type": "code",
      "metadata": {
        "id": "pb6qz0SwJKWY",
        "colab_type": "code",
        "colab": {}
      },
      "source": [
        "# trainingdf.loc[(trainingdf.y == 1)]\n"
      ],
      "execution_count": 0,
      "outputs": []
    },
    {
      "cell_type": "code",
      "metadata": {
        "id": "rxSrmmv3SW8m",
        "colab_type": "code",
        "colab": {}
      },
      "source": [
        "# normalized_dftr"
      ],
      "execution_count": 0,
      "outputs": []
    },
    {
      "cell_type": "code",
      "metadata": {
        "id": "rLu7M3RfuEE3",
        "colab_type": "code",
        "colab": {}
      },
      "source": [
        "# print(alphas)\n",
        "# print(splitx)\n",
        "# print(splity)"
      ],
      "execution_count": 0,
      "outputs": []
    },
    {
      "cell_type": "code",
      "metadata": {
        "id": "QGe-gL9z4Kcm",
        "colab_type": "code",
        "colab": {}
      },
      "source": [
        "# count\n",
        "# np.int(np.floor(dfsplits[count + 1] * leny1))\n",
        "# dfytot[0]"
      ],
      "execution_count": 0,
      "outputs": []
    },
    {
      "cell_type": "code",
      "metadata": {
        "id": "SFGul9aCvqFD",
        "colab_type": "code",
        "colab": {}
      },
      "source": [
        "# splitx"
      ],
      "execution_count": 0,
      "outputs": []
    },
    {
      "cell_type": "code",
      "metadata": {
        "id": "9V1O4NBzw0c9",
        "colab_type": "code",
        "colab": {}
      },
      "source": [
        "# scores = []\n",
        "# cv = KFold(n_splits=10)\n",
        "# for train_index, test_index in cv.split(X):\n",
        "\n",
        "#     X_train, X_test, y_train, y_test = X[train_index], X[test_index], y[train_index], y[test_index]\n",
        "#     best_svr.fit(X_train, y_train)\n",
        "#     scores.append(best_svr.score(X_test, y_test))  "
      ],
      "execution_count": 0,
      "outputs": []
    },
    {
      "cell_type": "code",
      "metadata": {
        "id": "pHVFfgc2KscB",
        "colab_type": "code",
        "colab": {}
      },
      "source": [
        "# print(len(dfytot))\n",
        "# print(len(dfytemp))\n",
        "# dfytemp.pop(0)\n",
        "# print(len(dfytemp))\n",
        "# print(len(training))\n",
        "# print(len(dfytot))"
      ],
      "execution_count": 0,
      "outputs": []
    },
    {
      "cell_type": "code",
      "metadata": {
        "id": "BY8qtAtgSel1",
        "colab_type": "code",
        "colab": {}
      },
      "source": [
        "# dfytegt.values\n",
        "# dfyteyte.values\n",
        "# alferror\n",
        "# error\n",
        "# alfindex\n",
        "# glm.coef_\n",
        "# np.sum(np.abs(glm.coef_))\n",
        "# for testindex in range(0, 10):\n",
        "#   print(fites[testindex])\n",
        "# print(dfytepa)"
      ],
      "execution_count": 0,
      "outputs": []
    },
    {
      "cell_type": "code",
      "metadata": {
        "id": "e75nYP-W86FR",
        "colab_type": "code",
        "colab": {}
      },
      "source": [
        "# tpr"
      ],
      "execution_count": 0,
      "outputs": []
    },
    {
      "cell_type": "code",
      "metadata": {
        "id": "AJZuKBBq9jkp",
        "colab_type": "code",
        "colab": {}
      },
      "source": [
        "# fpr"
      ],
      "execution_count": 0,
      "outputs": []
    },
    {
      "cell_type": "code",
      "metadata": {
        "id": "NG2zxmS_9lK4",
        "colab_type": "code",
        "colab": {}
      },
      "source": [
        "# np.sum((gte.values - yte.values) ** 2)"
      ],
      "execution_count": 0,
      "outputs": []
    },
    {
      "cell_type": "code",
      "metadata": {
        "id": "5eFcavzE-CGZ",
        "colab_type": "code",
        "colab": {}
      },
      "source": [
        ""
      ],
      "execution_count": 0,
      "outputs": []
    },
    {
      "cell_type": "code",
      "metadata": {
        "id": "29LS_PA8_e5O",
        "colab_type": "code",
        "colab": {}
      },
      "source": [
        ""
      ],
      "execution_count": 0,
      "outputs": []
    },
    {
      "cell_type": "code",
      "metadata": {
        "id": "NFxEwXRF_iQ1",
        "colab_type": "code",
        "colab": {}
      },
      "source": [
        "# three"
      ],
      "execution_count": 0,
      "outputs": []
    },
    {
      "cell_type": "code",
      "metadata": {
        "id": "06xAmSNL_jEO",
        "colab_type": "code",
        "colab": {}
      },
      "source": [
        "# threshold"
      ],
      "execution_count": 0,
      "outputs": []
    },
    {
      "cell_type": "code",
      "metadata": {
        "id": "Ttv4SS73_mDE",
        "colab_type": "code",
        "colab": {}
      },
      "source": [
        ""
      ],
      "execution_count": 0,
      "outputs": []
    }
  ]
}